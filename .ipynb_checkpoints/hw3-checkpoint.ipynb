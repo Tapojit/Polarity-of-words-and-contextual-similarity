{
 "cells": [
  {
   "cell_type": "markdown",
   "metadata": {},
   "source": [
    "# Homework 5: Lexicons and Distributional Semantics\n",
    "\n",
    "This is due on **Friday, 11/10 (11pm)** \n",
    "\n",
    "## How to do this problem set\n",
    "\n",
    "Most of these questions require writing Python code and computing results, and the rest of them have textual answers.  Write all the textual answers in this document, show the output of your experiment in this document, and implement the functions in the `python` files. \n",
    "\n",
    "Submit a PDF of thie .ipynb to Gradescope, and the .ipynb and all python files to Moodle.\n",
    "\n",
    "The assignment has two parts:\n",
    " * In the first part, you will experiment with Turney's method to find word polarities in a twitter dataset, given some positive and negative seed words.\n",
    " * In the second part, you will experiment with distributional and vector semantics."
   ]
  },
  {
   "cell_type": "markdown",
   "metadata": {},
   "source": [
    "**Your Name: Tapojit Debnath Tapu**\n",
    "\n",
    "**List collaborators, and how you collaborated, here:** (see our [grading and policies page](http://people.cs.umass.edu/~brenocon/inlp2017/grading.html) for details on our collaboration policy).\n",
    "\n",
    "* _name 1_ "
   ]
  },
  {
   "cell_type": "markdown",
   "metadata": {},
   "source": [
    "## Part 1: Lexicon semantics"
   ]
  },
  {
   "cell_type": "markdown",
   "metadata": {},
   "source": [
    "\n",
    "Recall that PMI of a pair of words, is defined as:\n",
    "\n",
    "$$PMI(x, y) = log\\frac{ P(x, y) }{ P(x)P(y)}$$\n",
    "\n",
    "The Turney mehod defines a word's polarity as:\n",
    "\n",
    "$$Polarity(word) = PMI(word, positive\\_word)−PMI(word, negative\\_word)$$\n",
    "\n",
    "where the joint probability $P(w, v)$ or, more specifically, $P(w\\ NEAR\\ v)$ is the probability of both being \"near\" each other.  We'll work with tweets, so it means: if you choose a tweet at random, what's the chance it contains both `w` and `v`?\n",
    "\n",
    "(If you look at the Turney method as explained in the SLP3 chapter, the \"hits\" function is a count of web pages that contain at least one instance of the two words occurring near each other.)\n",
    "\n",
    "The positive_word and negative_word terms are initially constructed by hand. For example: we might start with single positive word ('excellent') and a single negative word ('bad'). We can also have list of positive words ('excellent', 'perfect', 'love', ....) and list of negative words ('bad', 'hate', 'filthy',....)\n",
    "\n",
    "If we're using a seed list of multiple terms, just combine them into a single symbol, e.g. all the positive seed words get rewritten to POS_WORD (and similarly for NEG_WORD).  This $P(w, POS\\_WORD)$ effectively means the co-ocurrence of $w$ with any of the terms in the list.\n",
    "\n",
    "For this assignment, we will use twitter dataset which has 349378 tweets. These tweets are in the file named `tweets.txt`. These are the tweets of one day and filtered such that each tweet contains at least one of the seed words we've selected."
   ]
  },
  {
   "cell_type": "markdown",
   "metadata": {},
   "source": [
    "## Question 1 (15 points)\n",
    "\n",
    "The file `tweets.txt` contains around 349,378 tweets with one tweet per line.  It is a random sample of public tweets, which we tokenized with [twokenize.py's tokenizeRawTweetText()](https://github.com/myleott/ark-twokenize-py/blob/master/twokenize.py)). The text you see has a space between each token so you can just use `.split()` if you want.  We also filtered tweets to ones that included at least one term from one of these seed lists:\n",
    "* Positive seed list: [\"good\", \"nice\", \"love\", \"excellent\", \"fortunate\", \"correct\", \"superior\"]\n",
    "* Negative seed list: [\"bad\", \"nasty\", \"poor\", \"hate\", \"unfortunate\", \"wrong\", \"inferior\"]\n",
    "\n",
    "Each tweet contains at least one positive or negative seed word. Take a look at the file (e.g. `less' and `grep'). Implement the Turney's method to calculate polarity scores of all words.\n",
    "\n",
    "Some things to keep in mind:\n",
    "* Ignore the seed words (i.e. don't calculate the polarity of the seed words).\n",
    "* You may want to ignore the polarity of words beignning with `@` or `#`. \n",
    "\n",
    "We recommend that you write code in a python file, but it's up to you.\n",
    "\n",
    "QUESTION: You'll have to do something to handle zeros in the PMI equation. Please explain your and justify your decision about this."
   ]
  },
  {
   "cell_type": "markdown",
   "metadata": {},
   "source": [
    "**textual answer here**"
   ]
  },
  {
   "cell_type": "markdown",
   "metadata": {},
   "source": [
    "If P(x,y) in PMI equation is zero, it is assumed that PMI is zero. For instance, for a given word, w, if P(w, POS_WORD) is zero, then PMI for it is zero. PMI for NEG_WORD is asserted to be negative. IF P(w, NEG_WORD) is zero, PMI for it is zero. PMI for POS_WORD is asserted to be positive. If P(w, POS_WORD) & P(w, NEG_WORD) are zero, then polarity is zero. Zero polarity means word is neutral."
   ]
  },
  {
   "cell_type": "markdown",
   "metadata": {
    "collapsed": true
   },
   "source": [
    "## Question 2 (5 points)\n",
    "\n",
    "Print the top 50 most-positive words (i.e. inferred positive words) and the 50 most-negative words.\n",
    "\n",
    "Many of the words won't make sense.  Comment on at least two that do make sense, and at least two that don't.  Why do you think these are happening with this dataset and method?"
   ]
  },
  {
   "cell_type": "code",
   "execution_count": 1,
   "metadata": {},
   "outputs": [
    {
     "name": "stdout",
     "output_type": "stream",
     "text": [
      "50 most positive tokens:  \n",
      "['friend\\xf0\\x9f\\xa4\\x9e\\xf0\\x9f\\x8f\\xbd', 'https://t.co/unteosecly', 'cassievers\\xe2\\x98\\xba', 'https://t.co/rcgdsyymir', 'eighteet', 'you\\\\n-i', '-*', 'througho\\xe2\\x80\\xa6', 'one\\\\ngood', 'gf\\xf0\\x9f\\x92\\x8d', 'ex\\xf0\\x9f\\x97\\x91', 'amiracan', 'lovvveeeee', 'https://t.co/filzv6f2ze', 'dulce\\xf0\\x9f\\x98\\xa9', 'https://t.co/lvrki7uwhd', 'you\\xc2\\xa1\\xc2\\xa1\\\\', 'chazelle', 'n-i', 'dirty\\xf0\\x9f\\xa4\\xa2', 'aside\\\\', 'it\\xf0\\x9f\\xa4\\x91', 'https://t.co/p1fyayehnz', '-tb\\\\', 'https://t.co/xketcvmmno', 'https://t.co/4vy3fv70rk', 'https://t.co/38zyfmjco8', '\\xcb\\x97\\xcb\\x8f\\xcb\\x8b', 'https://t.co/pyvhn56pje', 'https://t.co/ve99xlwp0g', 'https://t.co/bnk2hia1mk', 'nori\\xe2\\x80\\xa6', 'forever\\\\n-i', 'todos', 'much\\\\n-i', 'noriega', 'bidadari', 'https://t.co/o1ii42byhl', 'bodoamatlah', '\\xcb\\x8e\\xcb\\x8a\\xcb\\x97', 'girl\\xf0\\x9f\\x98\\xad\\xf0\\x9f\\x98\\xad\\xf0\\x9f\\x98\\xadits', 'luck\\xf0\\x9f\\x92\\x9e\\xf0\\x9f\\x92\\x9c', '\\xe2\\x9d\\xa4\\xf0\\x9f\\x92\\x99\\xf0\\x9f\\x92\\x9b\\xf0\\x9f\\x92\\x9c', '2017.02', 'https://t.co/hsyskqcnn6', 'octavia', '\\xe2\\x9b\\x88\\xe2\\x9a\\xa1\\xef\\xb8\\x8f\\xf0\\x9f\\x98\\x8d', '\\\\n\\\\nfaveeeee', 'looooooovveeee', 'https://t.co/jm\\xe2\\x80\\xa6'] \n",
      "\n",
      "50 most negative tokens:  \n",
      "['us-they', 'sudmalis', 'bitchness', 'deomocrats', 'https://t.co/tx\\xe2\\x80\\xa6', 'https://t.co/fxveuydvfx', 'hurt/disregarded', 'https://t.co/uchmaxafrk', 'looser', 'https://t.co/cmz27nmopl', \"day's.\", 'https://t.co/rjmh9eh\\xe2\\x80\\xa6', 'all-i', 'usa-they', 'https://t.co/rnqhff13az', 'https://t.co/mtehygjxtl', 'democracy\\\\nleftists', 'look\\xf0\\x9f\\x98\\x85', 'wowowowowowowowow', 'winnn', 'ill-they', 'anti-patriotism', 'bumbling', 'https://t.co/qio17l0iqz', 'proclivity', 'chavs', 'congressperson-to-congressperson', 'https://t.co/2tiza9n7\\xe2\\x80\\xa6', 'nap/bad', '\\xf0\\x9f\\x93\\x8csaying', 'https://t.co/wwfvgyfolm', 'racist\\\\', '4cm', 'my-', 'home\\xf0\\x9f\\x98\\xad', 'l\\xc3\\xb8v\\xc3\\xab', 'https://t.co/lqwhh2qora', 'torbjorn', 'hinduism\\\\nyet', 'nazi\\\\', 'india\\\\nleftists', 'cough*cincy*cough', 'https://t.co/wzz4ndbn7n', '||i', 'https://t.co/qfpq8hcd3l', 'https://t.co/tkzqcrnry8', 'cialis', 'condiment', 'https://t.co/yjikxov0q9', 'https://t.co/itqwxo\\xe2\\x80\\xa6']\n"
     ]
    }
   ],
   "source": [
    "# Write code to print words here\n",
    "import operator\n",
    "from collections import defaultdict\n",
    "from polarity import polarity_calc\n",
    "polarity=polarity_calc()\n",
    "max_50=dict(sorted(polarity.iteritems(), key=operator.itemgetter(1), reverse=True)[:50]).keys()\n",
    "min_50=dict(sorted(polarity.iteritems(), key=operator.itemgetter(1), reverse=True)[-50:]).keys()\n",
    "print \"50 most positive tokens: \", \"\\n\", max_50, \"\\n\"\n",
    "print \"50 most negative tokens: \", \"\\n\", min_50"
   ]
  },
  {
   "cell_type": "markdown",
   "metadata": {
    "collapsed": true
   },
   "source": [
    "### Textual answer here."
   ]
  },
  {
   "cell_type": "markdown",
   "metadata": {},
   "source": [
    "Two that make sense:<br/>\n",
    "'looooooovveeee' for positive tokens, since it is short for `love` and 'looser' from negative tokens, which means `loser`.<br/> \n",
    "Two that do not make sense:<br/>\n",
    "'octavia' for positive tokens and 'condiment' from negative tokens. Both are supposed to be neutral words.<br/>\n",
    "They do not make sense since word in a tweet is considered to be positive or negative if there is a positive or negative seed word in said tweet respectively."
   ]
  },
  {
   "cell_type": "markdown",
   "metadata": {},
   "source": [
    "## Question 3 (5 points)\n",
    "\n",
    "Now filter out all the words which have total count < 500, and then print top 50 polarity words and bottom 50 polarity words. \n",
    "\n",
    "Choose some of the words from both the sets of 50 words you got above which accoording to you make sense. Again please note, you will find many words which don't make sense. Do you think these results are better than the results you got in Question-1? Explain why."
   ]
  },
  {
   "cell_type": "code",
   "execution_count": 2,
   "metadata": {},
   "outputs": [
    {
     "name": "stdout",
     "output_type": "stream",
     "text": [
      "50 most positive tokens:  \n",
      "['friend\\xf0\\x9f\\xa4\\x9e\\xf0\\x9f\\x8f\\xbd', 'https://t.co/unteosecly', 'cassievers\\xe2\\x98\\xba', 'https://t.co/rcgdsyymir', 'eighteet', 'you\\\\n-i', '-*', 'througho\\xe2\\x80\\xa6', 'one\\\\ngood', 'gf\\xf0\\x9f\\x92\\x8d', 'ex\\xf0\\x9f\\x97\\x91', 'amiracan', 'lovvveeeee', 'https://t.co/filzv6f2ze', 'dulce\\xf0\\x9f\\x98\\xa9', 'https://t.co/lvrki7uwhd', 'you\\xc2\\xa1\\xc2\\xa1\\\\', 'chazelle', 'n-i', 'dirty\\xf0\\x9f\\xa4\\xa2', 'aside\\\\', 'it\\xf0\\x9f\\xa4\\x91', 'https://t.co/p1fyayehnz', '-tb\\\\', 'https://t.co/xketcvmmno', 'https://t.co/4vy3fv70rk', 'https://t.co/38zyfmjco8', '\\xcb\\x97\\xcb\\x8f\\xcb\\x8b', 'https://t.co/pyvhn56pje', 'https://t.co/ve99xlwp0g', 'https://t.co/bnk2hia1mk', 'nori\\xe2\\x80\\xa6', 'forever\\\\n-i', 'todos', 'much\\\\n-i', 'noriega', 'bidadari', 'https://t.co/o1ii42byhl', 'bodoamatlah', '\\xcb\\x8e\\xcb\\x8a\\xcb\\x97', 'girl\\xf0\\x9f\\x98\\xad\\xf0\\x9f\\x98\\xad\\xf0\\x9f\\x98\\xadits', 'luck\\xf0\\x9f\\x92\\x9e\\xf0\\x9f\\x92\\x9c', '\\xe2\\x9d\\xa4\\xf0\\x9f\\x92\\x99\\xf0\\x9f\\x92\\x9b\\xf0\\x9f\\x92\\x9c', '2017.02', 'https://t.co/hsyskqcnn6', 'octavia', '\\xe2\\x9b\\x88\\xe2\\x9a\\xa1\\xef\\xb8\\x8f\\xf0\\x9f\\x98\\x8d', '\\\\n\\\\nfaveeeee', 'looooooovveeee', 'https://t.co/jm\\xe2\\x80\\xa6'] \n",
      "\n",
      "50 most negative tokens:  \n",
      "['us-they', 'sudmalis', 'bitchness', 'deomocrats', 'https://t.co/tx\\xe2\\x80\\xa6', 'https://t.co/fxveuydvfx', 'hurt/disregarded', 'https://t.co/uchmaxafrk', 'looser', 'https://t.co/cmz27nmopl', \"day's.\", 'https://t.co/rjmh9eh\\xe2\\x80\\xa6', 'all-i', 'usa-they', 'https://t.co/rnqhff13az', 'https://t.co/mtehygjxtl', 'democracy\\\\nleftists', 'look\\xf0\\x9f\\x98\\x85', 'wowowowowowowowow', 'winnn', 'ill-they', 'anti-patriotism', 'bumbling', 'https://t.co/qio17l0iqz', 'proclivity', 'chavs', 'congressperson-to-congressperson', 'https://t.co/2tiza9n7\\xe2\\x80\\xa6', 'nap/bad', '\\xf0\\x9f\\x93\\x8csaying', 'https://t.co/wwfvgyfolm', 'racist\\\\', '4cm', 'my-', 'home\\xf0\\x9f\\x98\\xad', 'l\\xc3\\xb8v\\xc3\\xab', 'https://t.co/lqwhh2qora', 'torbjorn', 'hinduism\\\\nyet', 'nazi\\\\', 'india\\\\nleftists', 'cough*cincy*cough', 'https://t.co/wzz4ndbn7n', '||i', 'https://t.co/qfpq8hcd3l', 'https://t.co/tkzqcrnry8', 'cialis', 'condiment', 'https://t.co/yjikxov0q9', 'https://t.co/itqwxo\\xe2\\x80\\xa6']\n"
     ]
    }
   ],
   "source": [
    "# Write code to print words here\n",
    "import operator\n",
    "from collections import defaultdict\n",
    "from polarity import polarity_calc\n",
    "polarity=polarity_calc(filter_500=True)\n",
    "max_50=dict(sorted(polarity.iteritems(), key=operator.itemgetter(1), reverse=True)[:50]).keys()\n",
    "min_50=dict(sorted(polarity.iteritems(), key=operator.itemgetter(1), reverse=True)[-50:]).keys()\n",
    "print \"50 most positive tokens: \", \"\\n\", max_50, \"\\n\"\n",
    "print \"50 most negative tokens: \", \"\\n\", min_50"
   ]
  },
  {
   "cell_type": "markdown",
   "metadata": {},
   "source": [
    "### Textual answer here."
   ]
  },
  {
   "cell_type": "markdown",
   "metadata": {},
   "source": [
    "Words which make sense:<br/>\n",
    "**'friend\\xf0\\x9f\\xa4\\x9e\\xf0\\x9f\\x8f\\xbd', 'luck\\xf0\\x9f\\x92\\x9e\\xf0\\x9f\\x92\\x9c'** from positive tokens(Only their beginning parts like 'friend' and 'luck' make sense).<br/><br.>\n",
    "words which do not make sense:<br/>\n",
    "**'wowowowowowowowow', 'winnn'** from negative tokens, since they are supposed to be in positive token group.<br/><br/>\n",
    "Results have not improved at all; corresponding token sets from question 2 and question 3 are still strikingly similar. This may be because most tokens have frequency below 500. Owing to their low frequency, they are most likely to be associated with either positive or negative group, even if high frequency words are filtered out."
   ]
  },
  {
   "cell_type": "markdown",
   "metadata": {},
   "source": [
    "## Question 4 (5 points)\n",
    "\n",
    "Even after filtering out words with count < 500, many top-most and bottom-most polarity don't make sense. Identify what kind of words these are and what can be done to filter them out. You can read some tweets in the file to see what's happening. "
   ]
  },
  {
   "cell_type": "markdown",
   "metadata": {
    "collapsed": true
   },
   "source": [
    "### Textual answer here."
   ]
  },
  {
   "cell_type": "markdown",
   "metadata": {},
   "source": [
    "These \"tokens\" mostly consist of emojis, like `friend\\xf0\\x9f\\xa4\\x9e\\xf0\\x9f\\x8f\\xbd`. The 'friend' part is distinguishable, but characters after it represent emojis. Moreover, there are a lot of html links too, like `https://t.co/jm\\xe2\\x80\\xa6`, which should be removed. HTML links can be identified by checking whether the first 4 characters of a token are equivalent to the string 'http'. If fourth character from end of token string is a backslash `\\`, then it means this particular token consist mostly of emojis and can be removed."
   ]
  },
  {
   "cell_type": "markdown",
   "metadata": {},
   "source": [
    "# Part-2: Distributional Semantics"
   ]
  },
  {
   "cell_type": "markdown",
   "metadata": {},
   "source": [
    "## Cosine Similarity"
   ]
  },
  {
   "cell_type": "markdown",
   "metadata": {},
   "source": [
    "Recall that, where $i$ indexes over the context types, cosine similarity is defined as follows. $x$ and $y$ are both vectors of context counts (each for a different word), where $x_i$ is the count of context $i$.\n",
    "\n",
    "$$cossim(x,y) = \\frac{ \\sum_i x_i y_i }{ \\sqrt{\\sum_i x_i^2} \\sqrt{\\sum_i y_i^2} }$$\n",
    "\n",
    "The nice thing about cosine similarity is that it is normalized: no matter what the input vectors are, the output is between 0 and 1. One way to think of this is that cosine similarity is just, um, the cosine function, which has this property (for non-negative $x$ and $y$). Another way to think of it is, to work through the situations of maximum and minimum similarity between two context vectors, starting from the definition above.\n",
    "\n",
    "Note: a good way to understand the cosine similarity function is that the numerator cares about whether the $x$ and $y$ vectors are correlated. If $x$ and $y$ tend to have high values for the same contexts, the numerator tends to be big. The denominator can be thought of as a normalization factor: if all the values of $x$ are really large, for example, dividing by the square root of their sum-of-squares prevents the whole thing from getting arbitrarily large. In fact, dividing by both these things (aka their norms) means the whole thing can’t go higher than 1.\n",
    "\n",
    "In this problem we'll work with vectors of raw context counts.  (As you know, this is not necessarily the best representation.)"
   ]
  },
  {
   "cell_type": "markdown",
   "metadata": {},
   "source": [
    "## Question 5 (5 points)\n",
    "\n",
    "See the file `nytcounts.university_cat_dog`, which contains context count vectors for three words: “dog”, “cat”, and “university”. These are immediate left and right contexts from a New York Times corpus. You can open the file in a text editor since it’s quite small. \n",
    "\n",
    "Write a function which takes context count dictionaries of two words and calculates cosine similarity between these two words. The function should return a number beween 0 and 1.  Briefly comment on whether the relative simlarities make sense.\n",
    "\n"
   ]
  },
  {
   "cell_type": "code",
   "execution_count": 1,
   "metadata": {},
   "outputs": [
    {
     "name": "stdout",
     "output_type": "stream",
     "text": [
      "file nytcounts.university_cat_dog has contexts for 3 words\n",
      "\n",
      "cosine similarity between cat and dog:  0.966891672715 \n",
      "\n",
      "cosine similarity between cat and university:  0.660442421144 \n",
      "\n",
      "cosine similarity between university and dog:  0.659230248969\n"
     ]
    }
   ],
   "source": [
    "import distsim; reload(distsim)\n",
    "\n",
    "word_to_ccdict = distsim.load_contexts(\"nytcounts.university_cat_dog\")\n",
    "cat_dog_sim=distsim.cos_sim(word_to_ccdict,'cat','dog')\n",
    "cat_uni_sim=distsim.cos_sim(word_to_ccdict,'cat','university')\n",
    "dog_uni_sim=distsim.cos_sim(word_to_ccdict,'university','dog')\n",
    "\n",
    "# write code here to show output (i.e. cosine similarity between these words.)\n",
    "# We encourage you to write other functions in distsim.py itself.\n",
    "print \"\\ncosine similarity between cat and dog: \", cat_dog_sim, \"\\n\"\n",
    "print \"cosine similarity between cat and university: \", cat_uni_sim, \"\\n\"\n",
    "print \"cosine similarity between university and dog: \", dog_uni_sim"
   ]
  },
  {
   "cell_type": "markdown",
   "metadata": {},
   "source": [
    "**Write your response here:**\n",
    "\n",
    "\n"
   ]
  },
  {
   "cell_type": "markdown",
   "metadata": {},
   "source": [
    "They do make sense, since cosine similarity between `cat` & `dog` is highest(both are animals) in comparison with that between `cat` & `university` and `dog` & `university`."
   ]
  },
  {
   "cell_type": "markdown",
   "metadata": {},
   "source": [
    "\n",
    "## Question 6 (20 points)\n",
    "\n",
    "Explore similarities in `nytcounts.4k`, which contains context counts for about 4000 words in a sample of New York Times articles. The news data was lowercased and URLs were removed. The context counts are for the 2000 most common words in twitter, as well as the most common 2000 words in the New York Times. (But all context counts are from New York Times.) The context counts only contain contexts that appeared for more than one word.  The file has three tab-separate fields: the word, its count, and a JSON-encoded dictionary of its context counts.  You'll see it's just counts of the immediate left/right neighbors.\n",
    "\n",
    "Choose **six** words. For each, show the output of 20 nearest words (use cosine similarity as distance metric). Comment on whether the output makes sense. Comment on whether this approach to distributional similarity makes more or less sense for certain terms.\n",
    "Four of your words should be:\n",
    "\n",
    " * a name (for example: person, organization, or location)\n",
    " * a common noun\n",
    " * an adjective\n",
    " * a verb\n",
    "\n",
    "You may also want to try exploring further words that are returned from a most-similar list from one of these. You can think of this as traversing the similarity graph among words.\n",
    "\n",
    "*Implementation note:* \n",
    "On my laptop it takes several hundred MB of memory to load it into memory from the `load_contexts()` function. If you don’t have enough memory available, your computer will get very slow because the OS will start swapping. If you have to use a machine without that much memory available, you can instead implement in a streaming approach by using the `stream_contexts()` generator function to access the data; this lets you iterate through the data from disk, one vector at a time, without putting everything into memory. You can see its use in the loading function. (You could also alternatively use a key-value or other type of database, but that’s too much work for this assignment.)"
   ]
  },
  {
   "cell_type": "code",
   "execution_count": 1,
   "metadata": {},
   "outputs": [
    {
     "name": "stdout",
     "output_type": "stream",
     "text": [
      "\n",
      "20 words nearest to  stock :\n",
      "  ['state', 'bathroom', 'ball', 'mood', 'government', 'sun', 'gym', 'title', 'overall', 'primary', 'roof', 'budget', 'brain', 'game', 'future', 'shooting', 'economy', 'heat', 'film', 'bond'] \n",
      "\n",
      "\n",
      "20 words nearest to  limited :\n",
      "  ['desire', 'closer', 'required', 'wise', 'continuing', 'hard', 'crucial', 'loyal', 'related', 'guide', 'necessary', 'chance', 'plan', 'quick', 'close', 'struggling', 'difficult', 'commitment', 'trip', 'happy'] \n",
      "\n",
      "\n",
      "20 words nearest to  inning :\n",
      "  ['worldwide', 'partners', 'lane', 'session', 'floor', 'grade', 'cemetery', 'term', 'garage', 'street', 'systems', 'base', 'time', 'films', 'texts', 'foundation', 'quarter', 'avenue', 'road', 'movement'] \n",
      "\n",
      "\n",
      "20 words nearest to  yellow :\n",
      "  ['pink', 'hip', 'fashion', 'sweet', 'green', 'gorgeous', 'cheap', 'quiet', 'fat', 'dry', 'bright', 'warm', 'black', 'dirty', 'rich', 'fresh', 'sexy', 'chicken', 'soft', 'pizza'] \n",
      "\n",
      "\n",
      "20 words nearest to  saved :\n",
      "  ['raised', 'made', 'kept', 'missed', 'lost', 'left', 'given', 'changed', 'joined', 'rejected', 'visited', 'supported', 'pushed', 'won', 'stopped', 'watched', 'reached', 'ordered', 'accepted', 'blocked'] \n",
      "\n",
      "\n",
      "20 words nearest to  paris :\n",
      "  ['europe', 'afghanistan', '1995', '1994', '1997', '1996', '1999', '1998', 'washington', 'baghdad', '2002', '2003', '2000', '2001', 'london', 'september', 'jail', 'atlanta', 'iraq', 'manhattan'] \n",
      "\n"
     ]
    }
   ],
   "source": [
    "import distsim; reload(distsim)\n",
    "import operator\n",
    "word_list=[\"stock\", \"limited\", \"inning\", \"yellow\", \"saved\", \"paris\"]\n",
    "\n",
    "for word in word_list:\n",
    "    dict_cos_sim=distsim.stream_cos_sim_calc(word)\n",
    "    near_20=dict(sorted(dict_cos_sim.iteritems(), key=operator.itemgetter(1), reverse=True)[:20]).keys()\n",
    "    \n",
    "    print \"\\n20 words nearest to \", word, \":\\n \", near_20, \"\\n\"\n",
    "\n",
    "###Provide your answer below; perhaps in another cell so you don't have to reload the data each time"
   ]
  },
  {
   "cell_type": "markdown",
   "metadata": {},
   "source": [
    "**Textual response**<br/><br/>\n",
    "For words in the word list like *yellow*, *paris*, respective 20 nearest words obtained for each of them make sense.<br/>\n",
    "For instance, for *yellow*, many words closest to it are also colors. For *paris*, many words closest to it are names of places and cities.<br/>\n",
    "But for *stock*, *limited*, *saved* and *inning*, results are more sparse. But still, cosine similarity algorithm picked up some words very close to their respective concepts. In case of *stock*, words like *budget, economy, brain, government* were closest to it.<br/>\n",
    "For terms with very few words in same category as themselves (like *stock*), the cosine similarity algorithm does not perform so well. But in case of adjectives and nouns which fall within categories like color, places, the algorithm performs very well.\n"
   ]
  },
  {
   "cell_type": "markdown",
   "metadata": {},
   "source": [
    "## Question 7 (10 points)\n",
    "\n",
    "In the next several questions, you'll examine similarities in trained word embeddings, instead of raw context counts.\n",
    "\n",
    "See the file `nyt_word2vec.university_cat_dog`, which contains word embedding vectors pretrained by word2vec [1] for three words: “dog”, “cat”, and “university”, from the same corpus. You can open the file in a text editor since it’s quite small.\n",
    "\n",
    "Write a function which takes word embedding vectors of two words and calculates cossine similarity between these 2 words. The function should return a number beween -1 and 1. Briefly comment on whether the relative simlarities make sense. \n",
    "\n",
    "*Implementation note:*\n",
    "Notice that the inputs of this function are numpy arrays (v1 and v2). If you are not very familiar with the basic operation in numpy, you can find some examples in the basic operation section here:\n",
    "https://docs.scipy.org/doc/numpy-dev/user/quickstart.html\n",
    "\n",
    "If you know how to use Matlab but haven't tried numpy before, the following link should be helpful:\n",
    "https://docs.scipy.org/doc/numpy-dev/user/numpy-for-matlab-users.html\n",
    "\n",
    "[1] Mikolov, Tomas, et al. \"Distributed representations of words and phrases and their compositionality.\" NIPS 2013."
   ]
  },
  {
   "cell_type": "code",
   "execution_count": 1,
   "metadata": {},
   "outputs": [
    {
     "name": "stdout",
     "output_type": "stream",
     "text": [
      "\n",
      "cosine similarity between cat and dog:  0.827517295965 \n",
      "\n",
      "cosine similarity between cat and university:  -0.205394745036 \n",
      "\n",
      "cosine similarity between university and dog:  -0.190753135501\n"
     ]
    }
   ],
   "source": [
    "import distsim; reload(distsim)\n",
    "\n",
    "word_to_vec_dict = distsim.load_word2vec(\"nyt_word2vec.university_cat_dog\")\n",
    "\n",
    "\n",
    "cat_dog_sim=distsim.cos_sim_word2vec(word_to_vec_dict,'cat','dog')\n",
    "cat_uni_sim=distsim.cos_sim_word2vec(word_to_vec_dict,'cat','university')\n",
    "dog_uni_sim=distsim.cos_sim_word2vec(word_to_vec_dict,'university','dog')\n",
    "\n",
    "print \"\\ncosine similarity between cat and dog: \", cat_dog_sim, \"\\n\"\n",
    "print \"cosine similarity between cat and university: \", cat_uni_sim, \"\\n\"\n",
    "print \"cosine similarity between university and dog: \", dog_uni_sim\n",
    "# write code here to show output (i.e. cosine similarity between these words.)\n",
    "# We encourage you to write other functions in distsim.py itself. "
   ]
  },
  {
   "cell_type": "markdown",
   "metadata": {},
   "source": [
    "**Write your response here:**<br/><br/>\n",
    "They do make sense. Cosine similarity between cat and dog is high and positive, whereas that between cat and university & dog and university is negative.\n",
    "\n",
    "\n"
   ]
  },
  {
   "cell_type": "markdown",
   "metadata": {},
   "source": [
    "## Question 8 (20 points)\n",
    "\n",
    "Repeat the process you did in the question 6, but now use dense vector from word2vec. Comment on whether the outputs makes sense. Compare the outputs of using nearest words on word2vec and the outputs on sparse context vector (so we suggest you to use the same words in question 6). Which method works better on the query words you choose. Please brief explain why one method works better than other in each case.\n",
    "\n",
    "Not: we used the default parameters of word2vec in [gensim](https://radimrehurek.com/gensim/models/word2vec.html) to get word2vec word embeddings."
   ]
  },
  {
   "cell_type": "code",
   "execution_count": 1,
   "metadata": {},
   "outputs": [
    {
     "name": "stdout",
     "output_type": "stream",
     "text": [
      "\n",
      "20 words nearest to  stock :\n",
      "  ['shareholders', 'debt', 'investors', 'exchange', 'profit', 'price', 'dollar', 'sale', 'shares', 'sales', 'securities', 'market', 'inflation', 'trading', 'earnings', 'stocks', 'markets', 'investment', 'profits', 'bond'] \n",
      "\n",
      "\n",
      "20 words nearest to  limited :\n",
      "  ['available', 'strong', 'necessary', 'increased', 'providing', 'certain', 'required', 'crucial', 'direct', 'specific', 'critical', 'weak', 'combined', 'significant', 'basic', 'long-term', 'increasing', 'overall', 'positive', 'common'] \n",
      "\n",
      "\n",
      "20 words nearest to  inning :\n",
      "  ['scored', 'mets', 'ball', 'innings', 'n.b.a', 'sixth', 'leg', 'pitcher', 'ninth', 'eighth', 'hitting', 'bout', 'game', 'pistons', 'pitch', 'hole', 'quarter', 'round', 'spurs', 'yankees'] \n",
      "\n",
      "\n",
      "20 words nearest to  yellow :\n",
      "  ['pink', 'blue', 'tree', 'gray', 'leather', 'metal', 'shorts', 'jeans', 'tiny', 'lights', 'bright', 'green', 'shirts', 'smoke', 'wet', 'bucket', 'thick', 'sky', 'wings', 'pants'] \n",
      "\n",
      "\n",
      "20 words nearest to  saved :\n",
      "  ['loved', 'raised', 'save', 'missed', 'lost', 'noticed', 'gotten', 'changed', 'liked', 'paid', 'hurt', 'discovered', 'returned', 'dropped', 'survived', 'collected', 'learned', 'removed', 'brought', 'bought'] \n",
      "\n",
      "\n",
      "20 words nearest to  paris :\n",
      "  ['el', 'del', 'australia', 'italy', 'la', 'madrid', 'hotel', 'royal', 'france', '1960', 'de', 'london', 'japan', '1996', 'germany', 'argentina', 'chelsea', 'chicago', 'spain', 'restaurant'] \n",
      "\n"
     ]
    }
   ],
   "source": [
    "import distsim\n",
    "import operator\n",
    "word_list=[\"stock\", \"limited\", \"inning\", \"yellow\", \"saved\", \"paris\"]\n",
    "\n",
    "for word in word_list:\n",
    "    dict_cos_sim=distsim.stream_cos_sim_calc_word2vec(word)\n",
    "    near_20=dict(sorted(dict_cos_sim.iteritems(), key=operator.itemgetter(1), reverse=True)[:20]).keys()\n",
    "    \n",
    "    print \"\\n20 words nearest to \", word, \":\\n \", near_20, \"\\n\"\n",
    "###Provide your answer below"
   ]
  },
  {
   "cell_type": "markdown",
   "metadata": {},
   "source": [
    "For dense vectors, the outputs make way more sense, hence this method works the best. In case of *stock*, words closest to it are more relatable in this case compared to sparse vectors, such as *shareholders*, *debt*, *investors*, etc. It is the same case for *inning*, since words closest to it are *scored, mets, ball*, etc. Unlike dense vectors, sparse vectors contain mostly zeros. Hence, many words which are actually contextually similar to the given word are left out when sparse vectors are used. For dense vectors, very few values are zero, hence contextually similar words do not get left out."
   ]
  },
  {
   "cell_type": "markdown",
   "metadata": {},
   "source": [
    "## Question 9 (15 points)\n",
    "An interesting thing to try with word embeddings is analogical reasoning tasks. In the following example, it's intended to solve the analogy question \"king is to man as what is to woman?\", or in SAT-style notation,\n",
    "\n",
    "king : man :: ____ : woman\n",
    "\n",
    "Some research has proposed to use additive operations on word embeddings to solve the analogy: take the vector $(v_{king}-v_{man}+v_{woman})$ and find the most-similar word to it.  One way to explain this idea: if you take \"king\", get rid of its attributes/contexts it shares with \"man\", and add in the attributes/contexts of \"woman\", hopefully you'll get to a point in the space that has king-like attributes but the \"man\" ones replaced with \"woman\" ones.\n",
    "\n",
    "Show the output for 20 closest words you get by trying to solve that analogy with this method.  Did it work?\n",
    "\n",
    "Please come up with another analogical reasoning task (another triple of words), and output the answer using the same method. Comment on whether the output makes sense. If the output makes sense, explain why we can capture such relation between words using an unsupervised algorithm. Where does the information come from? On the other hand, if the output does not make sense, propose an explanation why the algorithm fails on this case.\n",
    "\n",
    "\n",
    "Note that the word2vec is trained in an unsupervised manner just with distributional statistics; it is interesting that it can apparently do any reasoning at all.  For a critical view, see [Linzen 2016](http://www.aclweb.org/anthology/W/W16/W16-2503.pdf).\n",
    "\n"
   ]
  },
  {
   "cell_type": "code",
   "execution_count": 5,
   "metadata": {},
   "outputs": [
    {
     "name": "stdout",
     "output_type": "stream",
     "text": [
      "20 closest words for the analogy \"king : man :: ____ : woman\":  \n",
      "['king', 'singer', 'woman', 'daughter', 'elizabeth', 'clark', 'mother', 'queen', 'royal', 'sister', 'prince', 'mary', 'kim', 'grandma', 'mama', 'lord', 'girl', 'wedding', 'princess', 'husband'] \n",
      "\n",
      "\n",
      "20 closest words for the analogy \"france : paris :: __ : madrid\":  \n",
      "['ukraine', 'brazil', 'europe', 'korea', 'china', 'afghanistan', 'africa', 'india', 'france', 'arab', 'britain', 'germany', 'canada', 'japan', 'terrorism', 'hamas', 'sunni', 'russia', 'spain', 'iran']\n"
     ]
    }
   ],
   "source": [
    "# Write code to show output here.\n",
    "import distsim\n",
    "import operator\n",
    "\n",
    "d=distsim.king_queen_analogy('king', 'man', 'woman')\n",
    "\n",
    "near_20=dict(sorted(d.iteritems(), key=operator.itemgetter(1), reverse=True)[:20]).keys()\n",
    "\n",
    "print \"20 closest words for the analogy \\\"king : man :: ____ : woman\\\": \", \"\\n\", near_20, \"\\n\\n\"\n",
    "\n",
    "\n",
    "d2=distsim.king_queen_analogy('france', 'paris', 'madrid')\n",
    "\n",
    "near_20_d2=dict(sorted(d2.iteritems(), key=operator.itemgetter(1), reverse=True)[:20]).keys()\n",
    "\n",
    "print \"20 closest words for the analogy \\\"france : paris :: __ : madrid\\\": \", \"\\n\", near_20_d2  "
   ]
  },
  {
   "cell_type": "markdown",
   "metadata": {},
   "source": [
    "### Textual answer here."
   ]
  },
  {
   "cell_type": "markdown",
   "metadata": {},
   "source": [
    "Yes, the analogy does work. Some words from list of 20 closest are:<br/>\n",
    "**elizabeth, queen, royal, mary, princess**<br/>\n",
    "All of the words above allude to a woman of royalty and/or proper name of actual queens, such as *elizabeth, mary*.<br/><br/>\n",
    "Analogy for my analysis is:<br/>\n",
    "**france is to paris as what is to madrid**?<br/>\n",
    "Therefore, in SAT-style notation:<br/>\n",
    "france : paris :: __ : madrid<br/><br/>\n",
    "For my analogy, the method does work. The target answer is **spain**, a country. The closest words returned are almost all countries, which is what was desired. Besides **spain** being one of the words in the list of 20 closest words, some of the other countries present are *brazil, ukraine, korea*. There are also names of continents in the list, like *europe, africa*.<br/><br/>\n",
    "The unsupervised algorithm here determined clusters of words which are related to each other. In a given tweet, people will talk about a particular topic only, which leads to usage of contextually related words in said tweet. For instance, in a tweet about countries to visit, many words used will be associated with countries or will be names of countries. If the tweet is about France, there is a good chance Paris will be mentioned too. So, the unsupervised algorithm obtains clusters alluding to relationships between words, such as that between names of countries, a country and its city, etc.\n"
   ]
  }
 ],
 "metadata": {
  "anaconda-cloud": {},
  "kernelspec": {
   "display_name": "Python 2",
   "language": "python",
   "name": "python2"
  },
  "language_info": {
   "codemirror_mode": {
    "name": "ipython",
    "version": 2
   },
   "file_extension": ".py",
   "mimetype": "text/x-python",
   "name": "python",
   "nbconvert_exporter": "python",
   "pygments_lexer": "ipython2",
   "version": "2.7.12"
  }
 },
 "nbformat": 4,
 "nbformat_minor": 1
}
